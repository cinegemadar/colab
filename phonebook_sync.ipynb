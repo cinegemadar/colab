{
  "nbformat": 4,
  "nbformat_minor": 0,
  "metadata": {
    "colab": {
      "name": "phonebook_sync.ipynb",
      "provenance": [],
      "collapsed_sections": [],
      "authorship_tag": "ABX9TyNF4cotpHLewRKn8KNyVZ8x",
      "include_colab_link": true
    },
    "kernelspec": {
      "name": "python3",
      "display_name": "Python 3"
    },
    "language_info": {
      "name": "python"
    }
  },
  "cells": [
    {
      "cell_type": "markdown",
      "metadata": {
        "id": "view-in-github",
        "colab_type": "text"
      },
      "source": [
        "<a href=\"https://colab.research.google.com/github/cinegemadar/colab/blob/main/phonebook_sync.ipynb\" target=\"_parent\"><img src=\"https://colab.research.google.com/assets/colab-badge.svg\" alt=\"Open In Colab\"/></a>"
      ]
    },
    {
      "cell_type": "code",
      "metadata": {
        "id": "4pZywSCMiCoQ"
      },
      "source": [
        "from lxml import html\n",
        "import requests\n",
        "from requests.auth import HTTPBasicAuth\n",
        "from getpass import getpass\n",
        "import csv\n"
      ],
      "execution_count": null,
      "outputs": []
    },
    {
      "cell_type": "code",
      "metadata": {
        "cellView": "form",
        "id": "FWDh0GLJGjUx",
        "colab": {
          "base_uri": "https://localhost:8080/"
        },
        "outputId": "719a6d3d-cec1-4501-e4ce-809514584277"
      },
      "source": [
        "#@title  { run: \"auto\" }\n",
        "\n",
        "user = 'dbalogh' #@param {type:\"string\"}\n",
        "passwd = getpass(\"password:\")"
      ],
      "execution_count": null,
      "outputs": [
        {
          "name": "stdout",
          "output_type": "stream",
          "text": [
            "password:··········\n"
          ]
        }
      ]
    },
    {
      "cell_type": "code",
      "metadata": {
        "id": "GzATAVEEGrMv"
      },
      "source": [
        "page = requests.get(\n",
        "    \"https://trac.cae-engineering.hu/misc/wiki/WhoIsWho\",\n",
        "    auth=HTTPBasicAuth(user, passwd),\n",
        ")\n",
        "assert page.status_code == 200, \"Cannot connect to WhoIsWho page.\"\n"
      ],
      "execution_count": null,
      "outputs": []
    },
    {
      "cell_type": "code",
      "metadata": {
        "id": "0jtGv02XFB_H"
      },
      "source": [
        "def getNames(page):\n",
        "  '''\n",
        "  Returns a list of empolyee names.\n",
        "  '''\n",
        "  return page.xpath(\n",
        "      '//*[@id=\"wikipage\"]/table[1]/tr/td[2]/strong/a/text()'\n",
        "      )\n"
      ],
      "execution_count": 16,
      "outputs": []
    },
    {
      "cell_type": "code",
      "metadata": {
        "id": "01f4fEwQGdtI"
      },
      "source": [
        "def getMobiles(page):\n",
        "  '''\n",
        "  Returns a list of empolyee mobile numbers. Where mobile number is not available\n",
        "  the value will be 'None'. Where multiple mobile numbers are available, returns the \n",
        "  first one.\n",
        "  '''\n",
        "  # Employee details is a subset of the following information:\n",
        "  # mobile: ... \n",
        "  # e-mail address \n",
        "  # extension, etc.\n",
        "  # None of these are mandatory.\n",
        "  employee_details_list = [\n",
        "                           e.xpath('text()') for e in page.xpath(\n",
        "                               '//*[@id=\"wikipage\"]/table[1]/tr/td[2]'\n",
        "                               )\n",
        "                           ]\n",
        "  # Extract mobile numbers from employee details list, where available.\n",
        "  mobiles = []\n",
        "  for employee_details in employee_details_list: # Check for mobile no in employee details.\n",
        "    for detail in employee_details:\n",
        "      data = str(detail)\n",
        "      if data.startswith(\"mobile:\"):\n",
        "        # in case multiple mobile numbers are available.\n",
        "        (mobile_no, *_) = data[8:].split(\",\") # unpack first mobile no, drop the rest.\n",
        "        mobiles.append(\"\".join(c for c in mobile_no.strip() if c.isdigit() or c == '+'))\n",
        "        break\n",
        "    else: # nobreak\n",
        "      mobiles.append(None)\n",
        "  return mobiles"
      ],
      "execution_count": 15,
      "outputs": []
    },
    {
      "cell_type": "code",
      "metadata": {
        "id": "bSpu7sLxJPFW"
      },
      "source": [
        "def isValidLength(mobileNo, expectedLength = 8):\n",
        "  '''\n",
        "  Returns True is mobile number has a valid length.\n",
        "  '''\n",
        "  return mobileNo and len(mobileNo) > expectedLength \n",
        "\n",
        "\n",
        "def setMobilePrefix(mobileNo):\n",
        "  '''\n",
        "  Inplace replace the given mobile number with prefix version.\n",
        "  Throws ValueError if cannot add prefix.\n",
        "  '''\n",
        "\n",
        "  # Check if mobile number is valid already.\n",
        "  prefix_map = {\n",
        "      (\"0036\",\"+36\")   : mobileNo,          # No change, valid phone number.\n",
        "      (\"20\",\"30\",\"70\") : f\"+36{mobileNo}\",  # Add '+36' prefix.\n",
        "      (\"36\")           : f\"+{mobileNo}\"     # Add '+' prefix.\n",
        "  }\n",
        "\n",
        "  for prefix_family in prefix_map:\n",
        "    for prefix in prefix_family:\n",
        "      if mobileNo.startswith(prefix):\n",
        "        return prefix_map[prefix_family]\n",
        "\n",
        "  # If cannot fix prefix: rais an error.\n",
        "  raise ValueError(f\"Unknown mobile number format: {mobileNo}\")\n"
      ],
      "execution_count": 29,
      "outputs": []
    },
    {
      "cell_type": "code",
      "metadata": {
        "id": "zCtbwSgDHAf0"
      },
      "source": [
        "tree = html.fromstring(page.content)\n",
        "full_phonebook = dict(zip(getNames(tree), getMobiles(tree)))"
      ],
      "execution_count": 19,
      "outputs": []
    },
    {
      "cell_type": "code",
      "metadata": {
        "id": "QFpXRR4IocKY"
      },
      "source": [
        "valid_phonebook = {}\n",
        "for key, value in full_phonebook.items():\n",
        "  if isValidLength(value):\n",
        "    try:\n",
        "      valid_phonebook[key] = setMobilePrefix(value)\n",
        "    except ValueError:\n",
        "      continue\n",
        "\n",
        "with open(\"CAEPhonebook.csv\", \"w\") as phonebook:\n",
        "  writer = csv.writer(phonebook)\n",
        "  writer.writerow([\"Name\",\"Phone\"])\n",
        "  for name, phone in valid_phonebook.items():\n",
        "    writer.writerow([name, phone])"
      ],
      "execution_count": 30,
      "outputs": []
    }
  ]
}